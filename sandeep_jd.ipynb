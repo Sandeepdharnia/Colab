{
  "nbformat": 4,
  "nbformat_minor": 0,
  "metadata": {
    "colab": {
      "provenance": [],
      "toc_visible": true,
      "include_colab_link": true
    },
    "kernelspec": {
      "name": "python3",
      "display_name": "Python 3"
    },
    "language_info": {
      "name": "python"
    }
  },
  "cells": [
    {
      "cell_type": "markdown",
      "metadata": {
        "id": "view-in-github",
        "colab_type": "text"
      },
      "source": [
        "<a href=\"https://colab.research.google.com/github/Sandeepdharnia/Colab/blob/main/sandeep_jd.ipynb\" target=\"_parent\"><img src=\"https://colab.research.google.com/assets/colab-badge.svg\" alt=\"Open In Colab\"/></a>"
      ]
    },
    {
      "cell_type": "markdown",
      "source": [
        "## Is Unique\n"
      ],
      "metadata": {
        "id": "AWuse3937lms"
      }
    },
    {
      "cell_type": "markdown",
      "source": [
        "Implement an algorithm to determine if a string has all unique characters. What if you cannot use additional data structures?\n",
        "\n",
        "Two algorithms, the first one uses O(n) memory, the other one does use extra memory: \n",
        "- for each character, check if they are in a set and if not, add the character to the set. If the character is in the set at the time of the addition to the set, there is a duplicate and the function returns false. If no added character was already in the set return true \n",
        "- for each character, check each of the other charater to see if they are equal."
      ],
      "metadata": {
        "id": "OnIJi7iLG0yh"
      }
    },
    {
      "cell_type": "code",
      "source": [
        "def has_duplicate(a_string: str) -> bool:\n",
        "  return len(a_string) != len(set(a_string))\n",
        "  \n",
        "def has_duplicate(a_string: str) -> bool:\n",
        "  seen = set()\n",
        "  for c in a_string:\n",
        "    if c in seen:\n",
        "      return True\n",
        "    seen.add(c)\n",
        "  return False\n",
        "\n",
        "\n",
        "import unittest\n",
        "class DupTest(unittest.TestCase):\n",
        "  def test_no_dups(self):\n",
        "    self.assertFalse(has_duplicate('abc'))\n",
        "    self.assertFalse(has_duplicate(''))\n",
        "\n",
        "  def test_dups(self):\n",
        "    self.assertTrue(has_duplicate('aa'))\n",
        "\n",
        "if __name__ == '__main__':\n",
        "  unittest.main(argv=['first-arg-is-ignored'], exit=False)"
      ],
      "metadata": {
        "id": "uZz-rwPM_v_L",
        "colab": {
          "base_uri": "https://localhost:8080/"
        },
        "outputId": "f486cb72-fa1b-4d3a-d24a-38792a85a707"
      },
      "execution_count": null,
      "outputs": [
        {
          "output_type": "stream",
          "name": "stderr",
          "text": [
            ".......\n",
            "----------------------------------------------------------------------\n",
            "Ran 7 tests in 0.011s\n",
            "\n",
            "OK\n"
          ]
        }
      ]
    },
    {
      "cell_type": "markdown",
      "source": [
        "## Palindrome Permutation"
      ],
      "metadata": {
        "id": "YRBOa_ZO9iFz"
      }
    },
    {
      "cell_type": "markdown",
      "source": [
        "Given a string, write a function to check if it is a permutation of a palindrome. A palindrome is a word or phrase that is the same forwards and backwards. A permutation is a rearrangement of letters. The palindrome does not need to be limited to just dictionary words\n",
        "\n",
        "Example:\n",
        "- Input: Tact Coa\n",
        "- Output: True because two permutations of Tact Coa are \"taco cat\" and \"atco cta\" which are both palindromes.\n",
        "\n",
        "Observation:\n",
        "A palindrome is always symmetric, and the center of symmetry is the middle of the string. So, each character count should be an even number because for each character there is its symmetric on the other side of the middle of the string. This means that there can only be one or zero odd character count for a palindrome: 0 if the input length is even, 1 if the input length is odd.\n",
        "\n",
        "Algorithm:\n",
        "1. Count the occurences of each characters,\n",
        "2. count the character count that are odd,\n",
        "3. and compare to the oddness of the size of the string."
      ],
      "metadata": {
        "id": "vL7LrNsDHS8_"
      }
    },
    {
      "cell_type": "code",
      "source": [
        "\n",
        "from collections import Counter\n",
        "\n",
        "odd = lambda n : bool(n % 2)\n",
        "\n",
        "def is_palindrome_permutation(string:str)->bool:\n",
        "  string = string.lower().replace(' ', '')\n",
        "  # 1. count the occurences of each characters\n",
        "  character_counter = Counter(string)  # \n",
        "\n",
        "  # 2. count the number of odd character counts.\n",
        "  odd_counter = 0\n",
        "  for char in  character_counter.values():\n",
        "    if odd(char):\n",
        "      odd_counter += 1\n",
        "  if odd_counter > 1:\n",
        "    return False\n",
        "\n",
        "  # 3. Compare the oddness of the input length to \n",
        "  # the count of odd character counts.\n",
        "\n",
        "  \"\"\"When the length of the string is an odd number, \n",
        "  there can be only one character that can appear once in the string. if not, it will return false.  \n",
        "  If string's length is even, then all characters will appear even times. if not, it will return false.\"\"\" \n",
        "  # Can you explain why there can be only one character that can appear once when the string is even? --jd\n",
        "  # it cant be beacuase even lenght will have every character even times.  \n",
        "\n",
        "\n",
        "  if odd(len(string)):\n",
        "    if odd_counter == 1: # just return the boolean expression, there is no need for return True. --jd\n",
        "      return True    \n",
        "  else: \n",
        "    if odd_counter == 0: # just return the boolean expression, there is no need for return True. --jd\n",
        "      return True\n",
        "   \n",
        "\n",
        "import unittest\n",
        "class PalindromePermutationTest(unittest.TestCase):\n",
        "  def test_is(self):\n",
        "    self.assertTrue(is_palindrome_permutation('abba'))\n",
        "    self.assertTrue(is_palindrome_permutation('aba'))\n",
        "    self.assertTrue(is_palindrome_permutation('aabaa'))\n",
        "    self.assertTrue(is_palindrome_permutation('Tact Coa'))\n",
        "\n",
        "  def test_is_not(self):\n",
        "    self.assertFalse(is_palindrome_permutation('abc'))\n",
        "    self.assertFalse(is_palindrome_permutation('abcd'))\n",
        "\n",
        "if __name__ == '__main__':\n",
        "  unittest.main(argv=['first-arg-is-ignored'], exit=False)\n"
      ],
      "metadata": {
        "id": "vcIwc1W4CDX3",
        "colab": {
          "base_uri": "https://localhost:8080/"
        },
        "outputId": "6e30c137-5df7-4b9b-a844-03ccf60b64dd"
      },
      "execution_count": null,
      "outputs": [
        {
          "output_type": "stream",
          "name": "stderr",
          "text": [
            "..\n",
            "----------------------------------------------------------------------\n",
            "Ran 2 tests in 0.014s\n",
            "\n",
            "OK\n"
          ]
        }
      ]
    },
    {
      "cell_type": "markdown",
      "source": [
        "## How to cover 4 different cases from two variables\n",
        "Please write a function that implement this table:\n",
        "\n",
        "|color1 \\ color2|red   |blue |\n",
        "|---------------|------|-----|\n",
        "|blue           |purple|blue |\n",
        "|yellow         |orange|green|\n",
        "\n",
        "I created the signature and the unit test below.\n",
        "\n",
        "After that, create a function that implement this table:\n",
        "\n",
        "|number of odd counters \\ len(string)| is odd  | is even |\n",
        "|------------------------------------|-----|-----|\n",
        "|1                                   |True |False|\n",
        "|0                                   |False|True |\n",
        "\n",
        "This should be quite similar code.\n"
      ],
      "metadata": {
        "id": "YhV9JL3JDpDa"
      }
    },
    {
      "cell_type": "code",
      "source": [
        "def merge_colors(color1, color2):\n",
        "  assert color1 in 'red', 'blue'\n",
        "  assert color2 in 'blue', 'yellow'\n",
        "  ... \n",
        "\n",
        "  return ... \n",
        "\n",
        "\n",
        "import unittest\n",
        "class ColorTest(unittest.TestCase):\n",
        "  def test_is(self):\n",
        "    self.assertTrue(merge_colors('red', 'blue'), 'purple')\n",
        "    self.assertTrue(merge_colors('red', 'yellow'), 'orange')\n",
        "    self.assertTrue(merge_colors('blue', 'blue'), 'blue')\n",
        "    self.assertTrue(merge_colors('blue', 'yellow'), 'green')\n",
        "\n",
        "if __name__ == '__main__':\n",
        "  unittest.main(argv=['first-arg-is-ignored'], exit=False)"
      ],
      "metadata": {
        "id": "YWxERKraDIOL"
      },
      "execution_count": null,
      "outputs": []
    },
    {
      "cell_type": "markdown",
      "source": [
        "## URLify"
      ],
      "metadata": {
        "id": "fF36lrkh8YLN"
      }
    },
    {
      "cell_type": "markdown",
      "source": [
        "Write a method to replace all spaces in a string with '%20'. You may assume that the string has sufficient space at the end to hold the additional characters, and that you are given the \"true\" length of the string. (Note: If implementing in Java, please use a character array so that you can perform this operation in place.) EXAMPLE Input: \"Mr John Smith \", 13 Output: \"Mr%20John%20Smith\"\n",
        "\n",
        "Algorithm: when a space is found, one character, the space needs to be replaced with 3 characters, so all the characters on the right of the space needs to be pushed left by two position. \n",
        "-  Python offers an insert operation for slices, shown in solution 2, but this will move the last characters of the string as many times as there are spaces. \n",
        "-  Instead the implementation using the deque (double ended queue) minimizes the moves and also minimize the memory consumption: this is solution 3."
      ],
      "metadata": {
        "id": "JjGHAm4IICfV"
      }
    },
    {
      "cell_type": "code",
      "source": [
        "from collections import deque\n",
        "\n",
        "# solution 1\n",
        "def urlify(s):\n",
        "  return s.replace(s, \" \", \"%20\")\n",
        "\n",
        "# solution 2\n",
        "def urlify(a_string: str) -> str:\n",
        "  ret = ''\n",
        "  for c in a_string:\n",
        "    ret += '%20' if c == ' ' else c\n",
        "  return ret\n",
        "\n",
        "# solution 3\n",
        "def urlify(s):\n",
        "  i = 0\n",
        "  s = list(s)\n",
        "  while True:\n",
        "    i+=1  \n",
        "    if s[i] == \" \":\n",
        "      s[i:i+1] = \"%20\"\n",
        "    if i >= len(s)-1:\n",
        "      break \n",
        "  return ''.join(s)\n",
        "\n",
        "# solution 4\n",
        "def urlify(string):\n",
        "  d = deque()\n",
        "  stringl = list(string)\n",
        "  for i, c in enumerate(stringl):\n",
        "    if c == ' ':\n",
        "      d.extend('%20')\n",
        "    if d:\n",
        "      if c != ' ':\n",
        "        d.append(stringl[i])\n",
        "      stringl[i] = d.popleft()\n",
        "  stringl.extend(d)\n",
        "  return ''.join(stringl)\n",
        "\n",
        "import unittest\n",
        "class UrlifyTest(unittest.TestCase):\n",
        "  def test(self):\n",
        "    self.assertEqual(urlify(''), '')\n",
        "    self.assertEqual(urlify('hello'), 'hello')\n",
        "    self.assertEqual(urlify('hello world'), 'hello%20world')\n",
        "    self.assertEqual(urlify('hello  world'), 'hello%20%20world')\n",
        "    self.assertEqual(urlify('hello complicated world'), 'hello%20complicated%20world')\n",
        "\n",
        "if __name__ == '__main__':\n",
        "  unittest.main(argv=['first-arg-is-ignored'], exit=False)"
      ],
      "metadata": {
        "id": "D-cL2qX8T-gh",
        "colab": {
          "base_uri": "https://localhost:8080/"
        },
        "outputId": "513da300-1239-437e-be15-d7ade15bdad4"
      },
      "execution_count": null,
      "outputs": [
        {
          "output_type": "stream",
          "name": "stderr",
          "text": [
            "......\n",
            "----------------------------------------------------------------------\n",
            "Ran 6 tests in 0.022s\n",
            "\n",
            "OK\n"
          ]
        }
      ]
    },
    {
      "cell_type": "markdown",
      "source": [
        "## One Away\n"
      ],
      "metadata": {
        "id": "ak2BjrXy88CR"
      }
    },
    {
      "cell_type": "markdown",
      "source": [
        "There are three types of edits that can be performed on strings: insert a character, remove a character, or replace a character. Given two strings, write a function to check if they are one edit (or zero edits) away.\n",
        "\n",
        "Algorithm: if there is difference between length of given strings, if first string length bigger than second means deletion.\n",
        "The second string's length is bigger than the insertion.\n",
        "With the same length, the second string may have a replacement.\n",
        "- to check only replacement we have to compare all characters.\n",
        "if there is more than one edit performed it gives false. \n",
        "\n",
        "EXAMPLE\n",
        "\n",
        "- pale, ple -> true\n",
        "- pales, pale -> true\n",
        "- pale, bale -> true\n",
        "- pale, bake -> false"
      ],
      "metadata": {
        "id": "GkesswgqIjHG"
      }
    },
    {
      "cell_type": "code",
      "source": [
        "# solution 1\n",
        "def edit_count(s1: str, s2: str):\n",
        "  # I think the complexity is ... 3^n  O_O\n",
        "  if s1 == '':       return len(s2)\n",
        "  if s2 == '':       return len(s1)\n",
        "  first_char_edit_count = 1 if s1[0] != s2[0] else 0\n",
        "  return min((edit_count(s1[1:], s2[1:]) + first_char_edit_count,  # a possible replacement\n",
        "              edit_count(s1,     s2[1:]) + 1,                      # a insertion in s1 vs s2\n",
        "              edit_count(s1[1:], s2)     + 1))                     # a deletion in s1 vs s2\n",
        "\n",
        "\n",
        "def one_away(s1: str, s2: str):\n",
        "  return edit_count(s1, s2) in (0, 1)\n",
        "\n",
        "# solution 2\n",
        "def one_away2(s1: str, s2: str):\n",
        "  # Complexity is back to O(n)\n",
        "  if abs(len(s1)-len(s2))>1: return False\n",
        "  if s1 == s2: return True\n",
        "  for i, (c1, c2) in enumerate(zip(s1, s2)):\n",
        "    if c1 != c2:\n",
        "      break  # This loop enumerates the strings until the  first difference.\n",
        "  else:\n",
        "    return True  # s1 == s2\n",
        "  # Skipping this character, the suffixes should be equal\n",
        "  return (\n",
        "      s1[(i+1):] == s2[i:]  # a possible replacement\n",
        "      or s1[i:] == s2[(i+1):]  # a insertion in s1 vs s2\n",
        "      or s1[(i+1):] == s2[(i+1):])  # a deletion in s1 vs s2\n",
        "\n",
        "# solution 3\n",
        "def one_away(s1, s2) :\n",
        "  if abs(len(s1)-len(s2))>1: return False\n",
        "  if s1 == s2: return True\n",
        "  for i, (c1, c2) in enumerate(zip(s1, s2)):\n",
        "    if c1 != c2:\n",
        "      break  # This loop looks for the first difference.\n",
        "  else:\n",
        "    return True  # s1 == s2\n",
        "  # Skipping or deleting characters at position i, the rest of the strings should be equal\n",
        "  return (s1[(i+1):] == s2[i:]\n",
        "          or s1[i:] == s2[(i+1):]\n",
        "          or s1[(i+1):] == s2[(i+1):])\n",
        "\n",
        "import unittest\n",
        "class OneAwayTest():\n",
        "  def test_one_away(self):\n",
        "    for s in 'axc', 'ab', 'abc', 'abcd':\n",
        "      self.assertTrue(one_away('abc', s))\n",
        "    \n",
        "    for s in '', 'a', 'xxx', 'abcde':\n",
        "      self.assertFalse(one_away('abc', s))\n",
        "\n",
        "if __name__ == '__main__':\n",
        "  unittest.main(argv=['first-arg-is-ignored'], exit=False)\n"
      ],
      "metadata": {
        "id": "eAlKLGIj2aXD",
        "colab": {
          "base_uri": "https://localhost:8080/"
        },
        "outputId": "f0c2e9d1-b50c-467a-e8cc-1068ae9990ea"
      },
      "execution_count": null,
      "outputs": [
        {
          "output_type": "stream",
          "name": "stderr",
          "text": [
            "......\n",
            "----------------------------------------------------------------------\n",
            "Ran 6 tests in 0.014s\n",
            "\n",
            "OK\n"
          ]
        }
      ]
    },
    {
      "cell_type": "markdown",
      "source": [
        "##Rotate Matrix\n"
      ],
      "metadata": {
        "id": "pOYMaoP5TbXg"
      }
    },
    {
      "cell_type": "markdown",
      "source": [
        "Given an image represented by an NxN matrix, where each pixel in the image is an int, write a method to rotate the image by 90 degrees. Can you do this in place? \n",
        "\n",
        "Algorithm: To rotate the matrix, we create an identical matrix. \n",
        "- assign value in the new matrix from rows and columns of the original matrix. Rows will become columns and columns become rows. Here column value will be taken in reverse ways."
      ],
      "metadata": {
        "id": "J2ZShdxfJgge"
      }
    },
    {
      "cell_type": "code",
      "source": [
        "import copy\n",
        "def rotate_matrix(matrix):\n",
        "    new_matrix = copy.deepcopy(matrix)\n",
        "    n = len(matrix)\n",
        "    for x, _ in enumerate(matrix): \n",
        "        for y, _ in enumerate(matrix):  \n",
        "            new_matrix[x][y]= matrix[(n-1)-y][x]\n",
        "            \n",
        "    return new_matrix\n",
        "\n",
        "def first_quadrant(n):\n",
        "    half = (n+1)//2\n",
        "    for i in range(0, half):\n",
        "        for j in range(0, half):\n",
        "            yield i,j\n",
        "\n",
        "def rotate_matrix_in_place(mat):\n",
        "    n = len(mat)-1\n",
        "    for i,j in first_quadrant(n):\n",
        "        temp = mat[n-j][i]\n",
        "        mat[n-j][i] = mat[n-i][n-j]\n",
        "        mat[n-i][n-j] = mat[j][n-i]\n",
        "        mat[j][n-i] = mat[i][j]\n",
        "        mat[i][j] = temp  \n",
        "\n",
        "\n",
        "import unittest\n",
        "class UrlifyTest(unittest.TestCase):\n",
        "  def test(self):\n",
        "    mat = [\n",
        "        [4, 8, 2, 6], \n",
        "        [5, 4, 3, 2], \n",
        "        [2, 5, 8, 3], \n",
        "        [7, 6, 5, 4]]\n",
        "    rotated = [\n",
        "        [7, 2, 5, 4], \n",
        "        [6, 5, 4, 8], \n",
        "        [5, 8, 3, 2], \n",
        "        [4, 3, 2, 6]]\n",
        "    self.assertEqual(rotate_matrix(mat), rotated)\n",
        "    rotate_matrix_in_place(mat)\n",
        "    self.assertEqual(mat, rotated)\n",
        "\n",
        "if __name__ == '__main__':\n",
        "  unittest.main(argv=['first-arg-is-ignored'], exit=False)"
      ],
      "metadata": {
        "colab": {
          "base_uri": "https://localhost:8080/"
        },
        "id": "DAZlcVsSbbFb",
        "outputId": "6353856e-3093-4eaf-a14e-f8d9691dfb1c"
      },
      "execution_count": null,
      "outputs": [
        {
          "output_type": "stream",
          "name": "stderr",
          "text": [
            "......\n",
            "----------------------------------------------------------------------\n",
            "Ran 6 tests in 0.007s\n",
            "\n",
            "OK\n"
          ]
        }
      ]
    },
    {
      "cell_type": "markdown",
      "source": [
        "## Zero Matrix"
      ],
      "metadata": {
        "id": "QydrK30Y-Hw9"
      }
    },
    {
      "cell_type": "markdown",
      "source": [
        "Write an algorithm such that if an element in an MxN matrix is 0, its entire row and column are set to 0.\n",
        "\n",
        "Algorithm: Here we have two solutions.\n",
        "Solution1: We create an identical matrix. First find the location of zero, identify the row and column. In new_matrix on the row and column will assign 0's. As it creates new matrix so this solution as per space complexity expansive.\n",
        "\n",
        "Solution2: Here once we find the location of 0, that location we save in a list of tuple. Two new functions help to assign 0's on identified row and column. \n"
      ],
      "metadata": {
        "id": "QNIf6v-nJmmY"
      }
    },
    {
      "cell_type": "code",
      "source": [
        "# solution 1\n",
        "import copy \n",
        "def zero_matrix(mat):\n",
        "    new_matrix = copy.deepcopy(mat)\n",
        "    n = len(mat[0])\n",
        "    m = len(mat)\n",
        "    for i in range(m):\n",
        "        for j in range(n):\n",
        "            if mat[i][j] == 0:\n",
        "                for col in range(m):\n",
        "                    new_matrix[col][j] = 0\n",
        "                for row in range(n):\n",
        "                    new_matrix[j][row] = 0\n",
        "        \n",
        "    return new_matrix  \n",
        "\n",
        "# solution 2 \n",
        "def zero_matrix_in_place(mat):\n",
        "    n = len(mat[0])\n",
        "    m = len(mat)\n",
        "    zeros = []\n",
        "    for i in range(m):\n",
        "        for j in range(n):\n",
        "            if mat[i][j] == 0:\n",
        "                zeros.append((i,j))\n",
        "                \n",
        "    for i, j in zeros:\n",
        "        _zero_row(mat, i)\n",
        "        _zero_col(mat, j)\n",
        "      \n",
        "\n",
        "def _zero_row(matrix, i):\n",
        "    for x in range(len(matrix)):\n",
        "        matrix[i][x]= 0\n",
        "        \n",
        "def _zero_col(matrix, j):\n",
        "    for x in range(len(matrix)):\n",
        "        matrix[x][j]= 0\n",
        "\n",
        "\n",
        "import unittest\n",
        "class ZeroMatrixTest(unittest.TestCase):\n",
        "  def test(self):\n",
        "    mat = [\n",
        "        [0, 8, 2, 6], \n",
        "        [5, 4, 3, 2], \n",
        "        [2, 5, 8, 3], \n",
        "        [7, 6, 5, 4]]\n",
        "    zeroed = [\n",
        "        [0, 0, 0, 0], \n",
        "        [0, 4, 3, 2], \n",
        "        [0, 5, 8, 3], \n",
        "        [0, 6, 5, 4]]\n",
        "    self.assertEqual(zero_matrix(mat), zeroed)\n",
        "    zero_matrix_in_place(mat)\n",
        "    self.assertEqual(mat, zeroed)\n",
        "\n",
        "if __name__ == '__main__':\n",
        "  unittest.main(argv=['first-arg-is-ignored'], exit=False)"
      ],
      "metadata": {
        "colab": {
          "base_uri": "https://localhost:8080/"
        },
        "id": "-8ja9tQYy0kA",
        "outputId": "6823c694-5e24-417a-a491-3f65d093b01c"
      },
      "execution_count": null,
      "outputs": [
        {
          "output_type": "stream",
          "name": "stderr",
          "text": [
            ".......\n",
            "----------------------------------------------------------------------\n",
            "Ran 7 tests in 0.019s\n",
            "\n",
            "OK\n"
          ]
        }
      ]
    },
    {
      "cell_type": "markdown",
      "source": [
        "# String Rotation\n",
        "\n"
      ],
      "metadata": {
        "id": "F1coL8clI72b"
      }
    },
    {
      "cell_type": "markdown",
      "source": [
        "Assume you have a method isSubstring which checks if oneword is a substring of another. Given two strings, sl and s2, write code to check if s2 is a rotation of sl using only one call to isSubstring (e.g., \"waterbottle\" is a rotation of\"erbottlewat\").\n",
        "\n",
        "Algorithm:???\n"
      ],
      "metadata": {
        "id": "7Aiy-38rJuC0"
      }
    },
    {
      "cell_type": "code",
      "source": [
        "from typing import List\n",
        "def rotations(s: str) -> List[str]:\n",
        "  length=len(s)\n",
        "  for i, _ in enumerate(s):\n",
        "    yield s[-(length-i):] + s[:i] \n",
        "## Show what rotation mean\n",
        "# for i, r in enumerate(rotations('jeandaniel')):\n",
        "#   print(' '* i + r)\n",
        "\n",
        "def is_rotation(container, candidate):\n",
        "  return candidate in container*2\n",
        "\n",
        "import unittest\n",
        "class RotationTest(unittest.TestCase):\n",
        "  def test(self):\n",
        "    self.assertTrue(is_rotation('jd', 'dj'))\n",
        "    self.assertTrue(is_rotation('sandeep', 'eepsand'))\n",
        "\n",
        "if __name__ == '__main__':\n",
        "  unittest.main(argv=['first-arg-is-ignored'], exit=False)"
      ],
      "metadata": {
        "id": "mfCg-xTjIT0H",
        "colab": {
          "base_uri": "https://localhost:8080/"
        },
        "outputId": "2bba46e9-30d1-4ef9-db22-dfcf3a82a50c"
      },
      "execution_count": null,
      "outputs": [
        {
          "output_type": "stream",
          "name": "stderr",
          "text": [
            ".......\n",
            "----------------------------------------------------------------------\n",
            "Ran 7 tests in 0.022s\n",
            "\n",
            "OK\n"
          ]
        }
      ]
    },
    {
      "cell_type": "markdown",
      "source": [
        "# String Compression\n"
      ],
      "metadata": {
        "id": "tSCjIIr07E-d"
      }
    },
    {
      "cell_type": "markdown",
      "source": [
        "Implement a method to perform basic string compression using the counts\n",
        "of repeated characters. For example, the string aabcccccaaa would become a2blc5a3. If the \"compressed\" string would not become smaller than the original string, your method should return the original string. You can assume the string has only uppercase and lowercase letters (a - z)\n",
        "\n",
        "Algorithm:\n",
        "- one way is to build an iterable from the input string that returns the successions of the same letters. Once we have this, we can build another iterator that makes 2-tuples of the letter and the number of repetition.\n",
        "- another way is to keep a current counter of the letter being counted, and a counter. Whenever the letter change, then the letter and the counter are added to a string."
      ],
      "metadata": {
        "id": "QSkp3KiIJ22b"
      }
    },
    {
      "cell_type": "code",
      "source": [
        "# First implementation\n",
        "def runlength(s):\n",
        "  last = None\n",
        "  counter = None, 0\n",
        "  ret = ''\n",
        "  for c in s:\n",
        "    if c == last:\n",
        "      counter += 1\n",
        "    else:\n",
        "      if last:  # no appending when last is set to None, for the first character\n",
        "        ret += last + str(counter)\n",
        "      last, counter = c, 1\n",
        "  ret += last + str(counter)\n",
        "\n",
        "  return ret\n",
        "\n",
        "# Second implementation (requires recent Python which adds pairwise())\n",
        "# from itertools import pairwise\n",
        "# def pairwise_padded_left(s):\n",
        "#   if not s: return\n",
        "#   yield None, s[0]\n",
        "#   yield from pairwise(s)\n",
        "#\n",
        "# def _group(s):\n",
        "#   group = []\n",
        "#   for c1, c2 in pairwise_padded_left(s):\n",
        "#     if c1 != c2:\n",
        "#       yield group\n",
        "#       group = []\n",
        "#     group.append(c2)\n",
        "#   yield group\n",
        "  \n",
        "# def runlength(s):\n",
        "#   return ''.join('%s%s' % (g[0], len(g)) for g in _group(s))\n",
        "\n",
        "# Third implementation\n",
        "from itertools import groupby\n",
        "def runlength(s):\n",
        "  return ''.join(c+str(len(list(g)))\n",
        "                 for c, g in groupby(s))\n",
        "\n",
        "runlength('aaabccccd')\n",
        "\n",
        "import unittest\n",
        "class RotationTest(unittest.TestCase):\n",
        "  def test(self):\n",
        "    self.assertEqual(runlength('aaabccccd'), 'a3b1c4d1')\n",
        "\n",
        "if __name__ == '__main__':\n",
        "  unittest.main(argv=['first-arg-is-ignored'], exit=False)"
      ],
      "metadata": {
        "id": "pv_fGQBmGXwP",
        "colab": {
          "base_uri": "https://localhost:8080/"
        },
        "outputId": "11708522-41b2-41e6-b74c-59cdad85909d"
      },
      "execution_count": null,
      "outputs": [
        {
          "output_type": "stream",
          "name": "stderr",
          "text": [
            ".......\n",
            "----------------------------------------------------------------------\n",
            "Ran 7 tests in 0.007s\n",
            "\n",
            "OK\n"
          ]
        }
      ]
    }
  ]
}